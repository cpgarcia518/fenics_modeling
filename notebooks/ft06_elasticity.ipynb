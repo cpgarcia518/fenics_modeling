{
 "cells": [
  {
   "cell_type": "code",
   "execution_count": 1,
   "metadata": {},
   "outputs": [],
   "source": [
    "from fenics import *"
   ]
  },
  {
   "cell_type": "code",
   "execution_count": 2,
   "metadata": {},
   "outputs": [],
   "source": [
    "# Scaled variables\n",
    "L = 1; W = 0.2\n",
    "mu = 1\n",
    "rho = 1\n",
    "delta = W/L\n",
    "gamma = 0.4*delta**2\n",
    "beta = 1.25\n",
    "lambda_ = beta\n",
    "g = gamma"
   ]
  },
  {
   "cell_type": "code",
   "execution_count": 3,
   "metadata": {},
   "outputs": [
    {
     "name": "stdout",
     "output_type": "stream",
     "text": [
      "Calling FFC just-in-time (JIT) compiler, this may take some time.\n",
      "Calling FFC just-in-time (JIT) compiler, this may take some time.\n"
     ]
    }
   ],
   "source": [
    "# Create mesh and define function space\n",
    "mesh = BoxMesh(Point(0, 0, 0), Point(L, W, W), 10, 3, 3)\n",
    "V = VectorFunctionSpace(mesh, 'P', 1)"
   ]
  },
  {
   "cell_type": "code",
   "execution_count": 4,
   "metadata": {},
   "outputs": [],
   "source": [
    "# Define boundary condition\n",
    "tol = 1E-14"
   ]
  },
  {
   "cell_type": "code",
   "execution_count": 5,
   "metadata": {},
   "outputs": [],
   "source": [
    "def clamped_boundary(x, on_boundary):\n",
    "    return on_boundary and x[0] < tol\n",
    "\n",
    "bc = DirichletBC(V, Constant((0, 0, 0)), clamped_boundary)"
   ]
  },
  {
   "cell_type": "code",
   "execution_count": 7,
   "metadata": {},
   "outputs": [
    {
     "ename": "NameError",
     "evalue": "name 'nabla_div' is not defined",
     "output_type": "error",
     "traceback": [
      "\u001b[0;31m---------------------------------------------------------------------------\u001b[0m",
      "\u001b[0;31mNameError\u001b[0m                                 Traceback (most recent call last)",
      "\u001b[1;32m/home/cpgarcia518/fenics_modeling/notebooks/ft06_elasticity.ipynb Cell 6\u001b[0m in \u001b[0;36m<cell line: 16>\u001b[0;34m()\u001b[0m\n\u001b[1;32m     <a href='vscode-notebook-cell://wsl%2Bubuntu/home/cpgarcia518/fenics_modeling/notebooks/ft06_elasticity.ipynb#W5sdnNjb2RlLXJlbW90ZQ%3D%3D?line=13'>14</a>\u001b[0m f \u001b[39m=\u001b[39m Constant((\u001b[39m0\u001b[39m, \u001b[39m0\u001b[39m, \u001b[39m-\u001b[39mrho\u001b[39m*\u001b[39mg))\n\u001b[1;32m     <a href='vscode-notebook-cell://wsl%2Bubuntu/home/cpgarcia518/fenics_modeling/notebooks/ft06_elasticity.ipynb#W5sdnNjb2RlLXJlbW90ZQ%3D%3D?line=14'>15</a>\u001b[0m T \u001b[39m=\u001b[39m Constant((\u001b[39m0\u001b[39m, \u001b[39m0\u001b[39m, \u001b[39m0\u001b[39m))\n\u001b[0;32m---> <a href='vscode-notebook-cell://wsl%2Bubuntu/home/cpgarcia518/fenics_modeling/notebooks/ft06_elasticity.ipynb#W5sdnNjb2RlLXJlbW90ZQ%3D%3D?line=15'>16</a>\u001b[0m a \u001b[39m=\u001b[39m inner(sigma(u), epsilon(v))\u001b[39m*\u001b[39mdx\n\u001b[1;32m     <a href='vscode-notebook-cell://wsl%2Bubuntu/home/cpgarcia518/fenics_modeling/notebooks/ft06_elasticity.ipynb#W5sdnNjb2RlLXJlbW90ZQ%3D%3D?line=16'>17</a>\u001b[0m L \u001b[39m=\u001b[39m dot(f, v)\u001b[39m*\u001b[39mdx \u001b[39m+\u001b[39m dot(T, v)\u001b[39m*\u001b[39mds\n",
      "\u001b[1;32m/home/cpgarcia518/fenics_modeling/notebooks/ft06_elasticity.ipynb Cell 6\u001b[0m in \u001b[0;36msigma\u001b[0;34m(u)\u001b[0m\n\u001b[1;32m      <a href='vscode-notebook-cell://wsl%2Bubuntu/home/cpgarcia518/fenics_modeling/notebooks/ft06_elasticity.ipynb#W5sdnNjb2RlLXJlbW90ZQ%3D%3D?line=6'>7</a>\u001b[0m \u001b[39mdef\u001b[39;00m \u001b[39msigma\u001b[39m(u):\n\u001b[0;32m----> <a href='vscode-notebook-cell://wsl%2Bubuntu/home/cpgarcia518/fenics_modeling/notebooks/ft06_elasticity.ipynb#W5sdnNjb2RlLXJlbW90ZQ%3D%3D?line=7'>8</a>\u001b[0m     \u001b[39mreturn\u001b[39;00m lambda_\u001b[39m*\u001b[39mnabla_div(u)\u001b[39m*\u001b[39mIdentity(d) \u001b[39m+\u001b[39m \u001b[39m2\u001b[39m\u001b[39m*\u001b[39mmu\u001b[39m*\u001b[39mepsilon(u)\n",
      "\u001b[0;31mNameError\u001b[0m: name 'nabla_div' is not defined"
     ]
    }
   ],
   "source": [
    "# Define strain and stress\n",
    "\n",
    "def epsilon(u):\n",
    "    return 0.5*(nabla_grad(u) + nabla_grad(u).T)\n",
    "    #return sym(nabla_grad(u))\n",
    "\n",
    "def sigma(u):\n",
    "    return lambda_*nabla_div(u)*Identity(d) + 2*mu*epsilon(u)\n",
    "\n",
    "# Define variational problem\n",
    "u = TrialFunction(V)\n",
    "d = u.geometric_dimension()  # space dimension\n",
    "v = TestFunction(V)\n",
    "f = Constant((0, 0, -rho*g))\n",
    "T = Constant((0, 0, 0))\n",
    "a = inner(sigma(u), epsilon(v))*dx\n",
    "L = dot(f, v)*dx + dot(T, v)*ds"
   ]
  },
  {
   "cell_type": "code",
   "execution_count": 6,
   "metadata": {},
   "outputs": [
    {
     "ename": "NameError",
     "evalue": "name 'a' is not defined",
     "output_type": "error",
     "traceback": [
      "\u001b[0;31m---------------------------------------------------------------------------\u001b[0m",
      "\u001b[0;31mNameError\u001b[0m                                 Traceback (most recent call last)",
      "\u001b[1;32m/home/cpgarcia518/fenics_modeling/notebooks/ft06_elasticity.ipynb Cell 7\u001b[0m in \u001b[0;36m<cell line: 3>\u001b[0;34m()\u001b[0m\n\u001b[1;32m      <a href='vscode-notebook-cell://wsl%2Bubuntu/home/cpgarcia518/fenics_modeling/notebooks/ft06_elasticity.ipynb#W6sdnNjb2RlLXJlbW90ZQ%3D%3D?line=0'>1</a>\u001b[0m \u001b[39m# Compute solution\u001b[39;00m\n\u001b[1;32m      <a href='vscode-notebook-cell://wsl%2Bubuntu/home/cpgarcia518/fenics_modeling/notebooks/ft06_elasticity.ipynb#W6sdnNjb2RlLXJlbW90ZQ%3D%3D?line=1'>2</a>\u001b[0m u \u001b[39m=\u001b[39m Function(V)\n\u001b[0;32m----> <a href='vscode-notebook-cell://wsl%2Bubuntu/home/cpgarcia518/fenics_modeling/notebooks/ft06_elasticity.ipynb#W6sdnNjb2RlLXJlbW90ZQ%3D%3D?line=2'>3</a>\u001b[0m solve(a \u001b[39m==\u001b[39m L, u, bc)\n",
      "\u001b[0;31mNameError\u001b[0m: name 'a' is not defined"
     ]
    }
   ],
   "source": [
    "# Compute solution\n",
    "u = Function(V)\n",
    "solve(a == L, u, bc)"
   ]
  },
  {
   "cell_type": "code",
   "execution_count": null,
   "metadata": {},
   "outputs": [],
   "source": [
    "# Plot solution\n",
    "plot(u, title='Displacement', mode='displacement')\n",
    "\n",
    "# Plot stress\n",
    "s = sigma(u) - (1./3)*tr(sigma(u))*Identity(d)  # deviatoric stress\n",
    "von_Mises = sqrt(3./2*inner(s, s))\n",
    "V = FunctionSpace(mesh, 'P', 1)\n",
    "von_Mises = project(von_Mises, V)\n",
    "plot(von_Mises, title='Stress intensity')\n",
    "\n",
    "# Compute magnitude of displacement\n",
    "u_magnitude = sqrt(dot(u, u))\n",
    "u_magnitude = project(u_magnitude, V)\n",
    "plot(u_magnitude, 'Displacement magnitude')\n",
    "print('min/max u:',\n",
    "      u_magnitude.vector().array().min(),\n",
    "      u_magnitude.vector().array().max())"
   ]
  }
 ],
 "metadata": {
  "kernelspec": {
   "display_name": "Python 3.10.6 ('fenicsproject')",
   "language": "python",
   "name": "python3"
  },
  "language_info": {
   "codemirror_mode": {
    "name": "ipython",
    "version": 3
   },
   "file_extension": ".py",
   "mimetype": "text/x-python",
   "name": "python",
   "nbconvert_exporter": "python",
   "pygments_lexer": "ipython3",
   "version": "3.10.6"
  },
  "orig_nbformat": 4,
  "vscode": {
   "interpreter": {
    "hash": "68ea44a9cef9c905011214301c47cdf766726929f5f178e21c197bc0260adea8"
   }
  }
 },
 "nbformat": 4,
 "nbformat_minor": 2
}
