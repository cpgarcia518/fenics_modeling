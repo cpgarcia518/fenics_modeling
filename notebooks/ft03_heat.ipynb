{
 "cells": [
  {
   "cell_type": "code",
   "execution_count": 1,
   "metadata": {},
   "outputs": [],
   "source": [
    "from fenics import *\n",
    "import numpy as np"
   ]
  },
  {
   "cell_type": "code",
   "execution_count": 2,
   "metadata": {},
   "outputs": [],
   "source": [
    "T = 2.0            # final time\n",
    "num_steps = 10     # number of time steps\n",
    "dt = T / num_steps # time step size\n",
    "alpha = 3          # parameter alpha\n",
    "beta = 1.2         # parameter beta"
   ]
  },
  {
   "cell_type": "code",
   "execution_count": 3,
   "metadata": {},
   "outputs": [],
   "source": [
    "# Create mesh and define function space\n",
    "nx = ny = 8\n",
    "mesh = UnitSquareMesh(nx, ny)\n",
    "V = FunctionSpace(mesh, 'P', 1)"
   ]
  },
  {
   "cell_type": "code",
   "execution_count": 4,
   "metadata": {},
   "outputs": [],
   "source": [
    "# Define boundary condition\n",
    "u_D = Expression('1 + x[0]*x[0] + alpha*x[1]*x[1] + beta*t',\n",
    "                 degree=2, alpha=alpha, beta=beta, t=0)\n",
    "\n",
    "def boundary(x, on_boundary):\n",
    "    return on_boundary\n",
    "\n",
    "bc = DirichletBC(V, u_D, boundary)"
   ]
  },
  {
   "cell_type": "code",
   "execution_count": 5,
   "metadata": {},
   "outputs": [],
   "source": [
    "# Define initial value\n",
    "u_n = interpolate(u_D, V)\n",
    "#u_n = project(u_D, V)"
   ]
  },
  {
   "cell_type": "code",
   "execution_count": 7,
   "metadata": {},
   "outputs": [],
   "source": [
    "# Define variational problem\n",
    "u = TrialFunction(V)\n",
    "v = TestFunction(V)\n",
    "f = Constant(beta - 2 - 2*alpha)\n",
    "\n",
    "\n",
    "F = u*v*dx + dt*dot(grad(u), grad(v))*dx - (u_n + dt*f)*v*dx\n",
    "a, L = lhs(F), rhs(F)"
   ]
  },
  {
   "cell_type": "code",
   "execution_count": 15,
   "metadata": {},
   "outputs": [
    {
     "name": "stdout",
     "output_type": "stream",
     "text": [
      "Solving linear variational problem.\n",
      "Solving linear variational problem.\n",
      "Solving linear variational problem.\n",
      "Solving linear variational problem.\n",
      "Solving linear variational problem.\n",
      "Solving linear variational problem.\n",
      "Solving linear variational problem.\n",
      "Solving linear variational problem.\n",
      "Solving linear variational problem.\n",
      "Solving linear variational problem.\n"
     ]
    },
    {
     "data": {
      "image/png": "[encoded data removed]",
      "text/plain": [
       "<Figure size 640x480 with 1 Axes>"
      ]
     },
     "metadata": {},
     "output_type": "display_data"
    }
   ],
   "source": [
    "# Time-stepping\n",
    "u = Function(V)\n",
    "t = 0\n",
    "for n in range(num_steps):\n",
    "\n",
    "    # Update current time\n",
    "    t += dt\n",
    "    u_D.t = t\n",
    "\n",
    "    # Compute solution\n",
    "    solve(a == L, u, bc)\n",
    "\n",
    "    # Plot solution\n",
    "    plot(u)\n",
    "\n",
    "    # # Compute error at vertices\n",
    "    u_e = interpolate(u_D, V)\n",
    "    # error = np.abs(u_e.vector().array() - u.vector().array()).max()\n",
    "    # print('t = %.2f: error = %.3g' % (t, error))\n",
    "\n",
    "    # Update previous solution\n",
    "    u_n.assign(u)"
   ]
  }
 ],
 "metadata": {
  "kernelspec": {
   "display_name": "Python 3.10.6 ('fenicsproject')",
   "language": "python",
   "name": "python3"
  },
  "language_info": {
   "codemirror_mode": {
    "name": "ipython",
    "version": 3
   },
   "file_extension": ".py",
   "mimetype": "text/x-python",
   "name": "python",
   "nbconvert_exporter": "python",
   "pygments_lexer": "ipython3",
   "version": "3.10.6"
  },
  "orig_nbformat": 4,
  "vscode": {
   "interpreter": {
    "hash": "68ea44a9cef9c905011214301c47cdf766726929f5f178e21c197bc0260adea8"
   }
  }
 },
 "nbformat": 4,
 "nbformat_minor": 2
}
